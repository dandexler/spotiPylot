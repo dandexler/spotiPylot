{
 "cells": [
  {
   "cell_type": "code",
   "execution_count": 2,
   "metadata": {},
   "outputs": [],
   "source": [
    "import os\n",
    "import spotipy\n",
    "from spotipy import util\n",
    "from spotipy.oauth2 import SpotifyClientCredentials"
   ]
  },
  {
   "cell_type": "markdown",
   "metadata": {},
   "source": [
    "# Setting Up the Environment\n",
    "Local environment variables were created for SPOTIFY_CLIENT_ID, SPOTIFY_CLIENT_SECRET, and SPOTIFY_USER_ID. Subsequently imported using the os module."
   ]
  },
  {
   "cell_type": "code",
   "execution_count": 7,
   "metadata": {},
   "outputs": [],
   "source": [
    "SPOTIFY_CLIENT_ID = os.environ['SPOTIFY_CLIENT_ID']\n",
    "SPOTIFY_CLIENT_SECRET = os.environ['SPOTIFY_CLIENT_SECRET']\n",
    "SPOTIFY_REDIRECT_URI = 'http://localhost:8888/callback/'\n",
    "SPOTIFY_USER_ID = os.environ['SPOTIFY_USER_ID']"
   ]
  },
  {
   "cell_type": "code",
   "execution_count": 9,
   "metadata": {},
   "outputs": [],
   "source": [
    "# Client authorization\n",
    "spotify = spotipy.Spotify(client_credentials_manager=\n",
    "                          SpotifyClientCredentials(client_id=SPOTIFY_CLIENT_ID, \n",
    "                                                   client_secret = SPOTIFY_CLIENT_SECRET))"
   ]
  },
  {
   "cell_type": "code",
   "execution_count": null,
   "metadata": {},
   "outputs": [],
   "source": []
  }
 ],
 "metadata": {
  "kernelspec": {
   "display_name": "Python 3",
   "language": "python",
   "name": "python3"
  },
  "language_info": {
   "codemirror_mode": {
    "name": "ipython",
    "version": 3
   },
   "file_extension": ".py",
   "mimetype": "text/x-python",
   "name": "python",
   "nbconvert_exporter": "python",
   "pygments_lexer": "ipython3",
   "version": "3.7.3"
  }
 },
 "nbformat": 4,
 "nbformat_minor": 4
}
