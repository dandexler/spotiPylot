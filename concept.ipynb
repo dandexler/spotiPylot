{
 "cells": [
  {
   "cell_type": "markdown",
   "metadata": {},
   "source": [
    "# spotiPylot\n",
    "## The collaborative playlist generator.\n",
    "Proof-of-Concept\n",
    "Description: A Python application that allows users to generate collaborative playlists based on music each participant is likely to enjoy. In the current iteration, best results will be obtained with fewer than five participants.\n",
    "\n",
    "<br> Estimated time: ~8 hours\n",
    "<br> Actual time: TBD\n",
    "<br> Extensible: Yes\n",
    "<br> Next steps: Build a front-end application in JavaScript and move beyond demo playlists. Allow for retrieval of public playlists and selective inclusion of each playlist by contributing user.\n"
   ]
  },
  {
   "cell_type": "markdown",
   "metadata": {},
   "source": [
    "## <br>Setting Up the Environment\n",
    "Packages loaded. Local environment variables were created for SPOTIFY_CLIENT_ID, SPOTIFY_CLIENT_SECRET, and SPOTIFY_USER_ID to hide these sensitive items. Subsequently imported using the os module."
   ]
  },
  {
   "cell_type": "markdown",
   "metadata": {},
   "source": [
    "### Import packages"
   ]
  },
  {
   "cell_type": "code",
   "execution_count": 1,
   "metadata": {},
   "outputs": [],
   "source": [
    "from IPython.display import Image\n",
    "import os\n",
    "import pandas as pd\n",
    "import spotipy\n",
    "from spotipy import util\n",
    "from spotipy.oauth2 import SpotifyClientCredentials"
   ]
  },
  {
   "cell_type": "markdown",
   "metadata": {},
   "source": [
    "### Loading Environment Variables"
   ]
  },
  {
   "cell_type": "code",
   "execution_count": 2,
   "metadata": {},
   "outputs": [],
   "source": [
    "SPOTIFY_CLIENT_ID = os.environ['SPOTIFY_CLIENT_ID']\n",
    "SPOTIFY_CLIENT_SECRET = os.environ['SPOTIFY_CLIENT_SECRET']\n",
    "SPOTIFY_REDIRECT_URI = 'http://localhost:8888/callback/'\n",
    "username = os.environ['SPOTIFY_USER_ID']"
   ]
  },
  {
   "cell_type": "markdown",
   "metadata": {},
   "source": [
    " ## <br> Authorization"
   ]
  },
  {
   "cell_type": "markdown",
   "metadata": {},
   "source": [
    "### Client Authorization"
   ]
  },
  {
   "cell_type": "code",
   "execution_count": 3,
   "metadata": {},
   "outputs": [],
   "source": [
    "scope = 'playlist-modify-public'\n",
    "user_token = util.prompt_for_user_token(username, scope, SPOTIFY_CLIENT_ID, SPOTIFY_CLIENT_SECRET, SPOTIFY_REDIRECT_URI)\n",
    "spotify = spotipy.Spotify(auth=user_token)"
   ]
  },
  {
   "cell_type": "markdown",
   "metadata": {},
   "source": [
    "## <br> Data Acquisition"
   ]
  },
  {
   "cell_type": "markdown",
   "metadata": {},
   "source": [
    "### Get Playlist Tracks\n",
    "For demonstration purposes, three pre-populated playlists are utilized, representing three independent users using the application to collaborate. The example playlists have a general \"theme\" and the tracks were randomly selected  In future iterations of the application, each user will be able to connect to a shared instance of the client to select the playlists they wish to contribute."
   ]
  },
  {
   "cell_type": "code",
   "execution_count": 4,
   "metadata": {},
   "outputs": [
    {
     "data": {
      "text/html": [
       "<div>\n",
       "<style scoped>\n",
       "    .dataframe tbody tr th:only-of-type {\n",
       "        vertical-align: middle;\n",
       "    }\n",
       "\n",
       "    .dataframe tbody tr th {\n",
       "        vertical-align: top;\n",
       "    }\n",
       "\n",
       "    .dataframe thead th {\n",
       "        text-align: right;\n",
       "    }\n",
       "</style>\n",
       "<table border=\"1\" class=\"dataframe\">\n",
       "  <thead>\n",
       "    <tr style=\"text-align: right;\">\n",
       "      <th></th>\n",
       "      <th>name</th>\n",
       "      <th>description</th>\n",
       "      <th>id</th>\n",
       "      <th>tracks</th>\n",
       "      <th>total_tracks</th>\n",
       "    </tr>\n",
       "  </thead>\n",
       "  <tbody>\n",
       "    <tr>\n",
       "      <th>0</th>\n",
       "      <td>User1</td>\n",
       "      <td></td>\n",
       "      <td>2V4jDbJJT7S575jdvrBuzV</td>\n",
       "      <td>https://api.spotify.com/v1/playlists/2V4jDbJJT...</td>\n",
       "      <td>50</td>\n",
       "    </tr>\n",
       "    <tr>\n",
       "      <th>1</th>\n",
       "      <td>User2</td>\n",
       "      <td></td>\n",
       "      <td>3gEikQyspYXdGwOdZwiFOj</td>\n",
       "      <td>https://api.spotify.com/v1/playlists/3gEikQysp...</td>\n",
       "      <td>50</td>\n",
       "    </tr>\n",
       "    <tr>\n",
       "      <th>2</th>\n",
       "      <td>User3</td>\n",
       "      <td></td>\n",
       "      <td>2I9p1xsjQGKljEviMQM5Lm</td>\n",
       "      <td>https://api.spotify.com/v1/playlists/2I9p1xsjQ...</td>\n",
       "      <td>50</td>\n",
       "    </tr>\n",
       "  </tbody>\n",
       "</table>\n",
       "</div>"
      ],
      "text/plain": [
       "    name description                      id  \\\n",
       "0  User1              2V4jDbJJT7S575jdvrBuzV   \n",
       "1  User2              3gEikQyspYXdGwOdZwiFOj   \n",
       "2  User3              2I9p1xsjQGKljEviMQM5Lm   \n",
       "\n",
       "                                              tracks total_tracks  \n",
       "0  https://api.spotify.com/v1/playlists/2V4jDbJJT...           50  \n",
       "1  https://api.spotify.com/v1/playlists/3gEikQysp...           50  \n",
       "2  https://api.spotify.com/v1/playlists/2I9p1xsjQ...           50  "
      ]
     },
     "execution_count": 4,
     "metadata": {},
     "output_type": "execute_result"
    }
   ],
   "source": [
    "all_playlists = spotify.current_user_playlists()\n",
    "playlist_information = pd.DataFrame(columns = ['name', 'description', 'id', 'tracks', 'total_tracks'])\n",
    "for playlist in all_playlists['items']:\n",
    "    info = [playlist['name'], playlist['description'], playlist['id'], playlist['tracks']['href'], playlist['tracks']['total'] ]\n",
    "    info_series = pd.Series(info, index=playlist_information.columns)\n",
    "    playlist_information = playlist_information.append(info_series, ignore_index=True)\n",
    "playlist_information = playlist_information.sort_values(by=['name']).reset_index(drop=True)\n",
    "playlist_information\n",
    "    "
   ]
  },
  {
   "cell_type": "markdown",
   "metadata": {},
   "source": [
    "<center> Table 1. Demo playlists and identifying information. </center>"
   ]
  },
  {
   "cell_type": "code",
   "execution_count": 5,
   "metadata": {},
   "outputs": [],
   "source": [
    "user_1_tracks = spotify.playlist('2V4jDbJJT7S575jdvrBuzV', fields=['tracks'])"
   ]
  },
  {
   "cell_type": "code",
   "execution_count": 35,
   "metadata": {},
   "outputs": [
    {
     "name": "stdout",
     "output_type": "stream",
     "text": [
      "album\n",
      "artists\n",
      "available_markets\n",
      "disc_number\n",
      "duration_ms\n",
      "episode\n",
      "explicit\n",
      "external_ids\n",
      "external_urls\n",
      "href\n",
      "id\n",
      "is_local\n",
      "name\n",
      "popularity\n",
      "preview_url\n",
      "track\n",
      "track_number\n",
      "type\n",
      "uri\n"
     ]
    }
   ],
   "source": [
    "for key, value in user_1_tracks['tracks']['items'][0]['track'].items():\n",
    "    print(key)"
   ]
  },
  {
   "cell_type": "code",
   "execution_count": 36,
   "metadata": {},
   "outputs": [
    {
     "data": {
      "text/plain": [
       "{'album': {'album_type': 'single',\n",
       "  'artists': [{'external_urls': {'spotify': 'https://open.spotify.com/artist/4sTQVOfp9vEMCemLw50sbu'},\n",
       "    'href': 'https://api.spotify.com/v1/artists/4sTQVOfp9vEMCemLw50sbu',\n",
       "    'id': '4sTQVOfp9vEMCemLw50sbu',\n",
       "    'name': 'Galantis',\n",
       "    'type': 'artist',\n",
       "    'uri': 'spotify:artist:4sTQVOfp9vEMCemLw50sbu'}],\n",
       "  'available_markets': ['AD',\n",
       "   'AE',\n",
       "   'AR',\n",
       "   'AT',\n",
       "   'AU',\n",
       "   'BE',\n",
       "   'BG',\n",
       "   'BH',\n",
       "   'BO',\n",
       "   'BR',\n",
       "   'CA',\n",
       "   'CH',\n",
       "   'CL',\n",
       "   'CO',\n",
       "   'CR',\n",
       "   'CY',\n",
       "   'CZ',\n",
       "   'DE',\n",
       "   'DK',\n",
       "   'DO',\n",
       "   'DZ',\n",
       "   'EC',\n",
       "   'EE',\n",
       "   'EG',\n",
       "   'ES',\n",
       "   'FI',\n",
       "   'FR',\n",
       "   'GB',\n",
       "   'GR',\n",
       "   'GT',\n",
       "   'HK',\n",
       "   'HN',\n",
       "   'HU',\n",
       "   'ID',\n",
       "   'IE',\n",
       "   'IL',\n",
       "   'IS',\n",
       "   'IT',\n",
       "   'JO',\n",
       "   'JP',\n",
       "   'KW',\n",
       "   'LB',\n",
       "   'LI',\n",
       "   'LT',\n",
       "   'LU',\n",
       "   'LV',\n",
       "   'MA',\n",
       "   'MC',\n",
       "   'MT',\n",
       "   'MX',\n",
       "   'MY',\n",
       "   'NI',\n",
       "   'NL',\n",
       "   'NO',\n",
       "   'NZ',\n",
       "   'OM',\n",
       "   'PA',\n",
       "   'PE',\n",
       "   'PH',\n",
       "   'PL',\n",
       "   'PS',\n",
       "   'PT',\n",
       "   'PY',\n",
       "   'QA',\n",
       "   'RO',\n",
       "   'SA',\n",
       "   'SE',\n",
       "   'SG',\n",
       "   'SK',\n",
       "   'SV',\n",
       "   'TH',\n",
       "   'TN',\n",
       "   'TR',\n",
       "   'TW',\n",
       "   'US',\n",
       "   'UY',\n",
       "   'VN',\n",
       "   'ZA'],\n",
       "  'external_urls': {'spotify': 'https://open.spotify.com/album/18C3JLfjKrkCKZubEhqJuw'},\n",
       "  'href': 'https://api.spotify.com/v1/albums/18C3JLfjKrkCKZubEhqJuw',\n",
       "  'id': '18C3JLfjKrkCKZubEhqJuw',\n",
       "  'images': [{'height': 640,\n",
       "    'url': 'https://i.scdn.co/image/579d8b4a3b8d58be3c3e73c29725106882f4826b',\n",
       "    'width': 640},\n",
       "   {'height': 300,\n",
       "    'url': 'https://i.scdn.co/image/13f32bc10fb37fe2c603c08255af7c72252e1435',\n",
       "    'width': 300},\n",
       "   {'height': 64,\n",
       "    'url': 'https://i.scdn.co/image/60b6d194274c98fba35dec1fc9d9f08c3c118df0',\n",
       "    'width': 64}],\n",
       "  'name': 'Holy Water',\n",
       "  'release_date': '2019-09-27',\n",
       "  'release_date_precision': 'day',\n",
       "  'total_tracks': 1,\n",
       "  'type': 'album',\n",
       "  'uri': 'spotify:album:18C3JLfjKrkCKZubEhqJuw'},\n",
       " 'artists': [{'external_urls': {'spotify': 'https://open.spotify.com/artist/4sTQVOfp9vEMCemLw50sbu'},\n",
       "   'href': 'https://api.spotify.com/v1/artists/4sTQVOfp9vEMCemLw50sbu',\n",
       "   'id': '4sTQVOfp9vEMCemLw50sbu',\n",
       "   'name': 'Galantis',\n",
       "   'type': 'artist',\n",
       "   'uri': 'spotify:artist:4sTQVOfp9vEMCemLw50sbu'}],\n",
       " 'available_markets': ['AD',\n",
       "  'AE',\n",
       "  'AR',\n",
       "  'AT',\n",
       "  'AU',\n",
       "  'BE',\n",
       "  'BG',\n",
       "  'BH',\n",
       "  'BO',\n",
       "  'BR',\n",
       "  'CA',\n",
       "  'CH',\n",
       "  'CL',\n",
       "  'CO',\n",
       "  'CR',\n",
       "  'CY',\n",
       "  'CZ',\n",
       "  'DE',\n",
       "  'DK',\n",
       "  'DO',\n",
       "  'DZ',\n",
       "  'EC',\n",
       "  'EE',\n",
       "  'EG',\n",
       "  'ES',\n",
       "  'FI',\n",
       "  'FR',\n",
       "  'GB',\n",
       "  'GR',\n",
       "  'GT',\n",
       "  'HK',\n",
       "  'HN',\n",
       "  'HU',\n",
       "  'ID',\n",
       "  'IE',\n",
       "  'IL',\n",
       "  'IS',\n",
       "  'IT',\n",
       "  'JO',\n",
       "  'JP',\n",
       "  'KW',\n",
       "  'LB',\n",
       "  'LI',\n",
       "  'LT',\n",
       "  'LU',\n",
       "  'LV',\n",
       "  'MA',\n",
       "  'MC',\n",
       "  'MT',\n",
       "  'MX',\n",
       "  'MY',\n",
       "  'NI',\n",
       "  'NL',\n",
       "  'NO',\n",
       "  'NZ',\n",
       "  'OM',\n",
       "  'PA',\n",
       "  'PE',\n",
       "  'PH',\n",
       "  'PL',\n",
       "  'PS',\n",
       "  'PT',\n",
       "  'PY',\n",
       "  'QA',\n",
       "  'RO',\n",
       "  'SA',\n",
       "  'SE',\n",
       "  'SG',\n",
       "  'SK',\n",
       "  'SV',\n",
       "  'TH',\n",
       "  'TN',\n",
       "  'TR',\n",
       "  'TW',\n",
       "  'US',\n",
       "  'UY',\n",
       "  'VN',\n",
       "  'ZA'],\n",
       " 'disc_number': 1,\n",
       " 'duration_ms': 176657,\n",
       " 'episode': False,\n",
       " 'explicit': False,\n",
       " 'external_ids': {'isrc': 'USAT21905063'},\n",
       " 'external_urls': {'spotify': 'https://open.spotify.com/track/7Ga9ZSdPAcQXQvd1ObVFpm'},\n",
       " 'href': 'https://api.spotify.com/v1/tracks/7Ga9ZSdPAcQXQvd1ObVFpm',\n",
       " 'id': '7Ga9ZSdPAcQXQvd1ObVFpm',\n",
       " 'is_local': False,\n",
       " 'name': 'Holy Water',\n",
       " 'popularity': 66,\n",
       " 'preview_url': 'https://p.scdn.co/mp3-preview/c2c54ef611015334a3a315ba8352365bbfaf9877?cid=5f47e78744784fcab2ad4f4290cc0120',\n",
       " 'track': True,\n",
       " 'track_number': 1,\n",
       " 'type': 'track',\n",
       " 'uri': 'spotify:track:7Ga9ZSdPAcQXQvd1ObVFpm'}"
      ]
     },
     "execution_count": 36,
     "metadata": {},
     "output_type": "execute_result"
    }
   ],
   "source": [
    "user_1_tracks['tracks']['items'][0]['track']"
   ]
  },
  {
   "cell_type": "code",
   "execution_count": null,
   "metadata": {},
   "outputs": [],
   "source": []
  }
 ],
 "metadata": {
  "kernelspec": {
   "display_name": "Python 3",
   "language": "python",
   "name": "python3"
  },
  "language_info": {
   "codemirror_mode": {
    "name": "ipython",
    "version": 3
   },
   "file_extension": ".py",
   "mimetype": "text/x-python",
   "name": "python",
   "nbconvert_exporter": "python",
   "pygments_lexer": "ipython3",
   "version": "3.7.3"
  }
 },
 "nbformat": 4,
 "nbformat_minor": 4
}
