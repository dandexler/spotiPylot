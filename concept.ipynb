{
 "cells": [
  {
   "cell_type": "code",
   "execution_count": 2,
   "metadata": {},
   "outputs": [],
   "source": [
    "import os\n",
    "import spotipy\n",
    "from spotipy import util\n",
    "from spotipy.oauth2 import SpotifyClientCredentials"
   ]
  },
  {
   "cell_type": "markdown",
   "metadata": {},
   "source": [
    "# Setting Up the Environment\n",
    "Local environment variables were created for SPOTIFY_CLIENT_ID, SPOTIFY_CLIENT_SECRET, and SPOTIFY_USER_ID. Subsequently imported using the os module."
   ]
  },
  {
   "cell_type": "code",
   "execution_count": 7,
   "metadata": {},
   "outputs": [],
   "source": [
    "SPOTIFY_CLIENT_ID = os.environ['SPOTIFY_CLIENT_ID']\n",
    "SPOTIFY_CLIENT_SECRET = os.environ['SPOTIFY_CLIENT_SECRET']\n",
    "SPOTIFY_REDIRECT_URI = 'http://localhost:8888/callback/'\n",
    "SPOTIFY_USER_ID = os.environ['SPOTIFY_USER_ID']"
   ]
  },
  {
   "cell_type": "code",
   "execution_count": 9,
   "metadata": {},
   "outputs": [],
   "source": [
    "# Client authorization\n",
    "spotify = spotipy.Spotify(client_credentials_manager=\n",
    "                          SpotifyClientCredentials(client_id=SPOTIFY_CLIENT_ID, \n",
    "                                                   client_secret = SPOTIFY_CLIENT_SECRET))"
   ]
  },
  {
   "cell_type": "code",
   "execution_count": 56,
   "metadata": {},
   "outputs": [
    {
     "name": "stdout",
     "output_type": "stream",
     "text": [
      "\n",
      "\n",
      "Noise\n",
      "The Phantom Of The Opera\n",
      "End Of All Hope\n",
      "Over The Hills And Far Away\n",
      "Wish I Had an Angel - Remastered\n",
      "Nemo - Remastered\n",
      "Ever Dream\n",
      "Élan\n",
      "Sleeping Sun\n",
      "Amaranth\n"
     ]
    },
    {
     "ename": "TypeError",
     "evalue": "track() got an unexpected keyword argument 'country'",
     "output_type": "error",
     "traceback": [
      "\u001b[1;31m---------------------------------------------------------------------------\u001b[0m",
      "\u001b[1;31mTypeError\u001b[0m                                 Traceback (most recent call last)",
      "\u001b[1;32m<ipython-input-56-894beeda0d32>\u001b[0m in \u001b[0;36m<module>\u001b[1;34m\u001b[0m\n\u001b[0;32m     13\u001b[0m     \u001b[0mprint\u001b[0m\u001b[1;33m(\u001b[0m\u001b[0mtrack\u001b[0m\u001b[1;33m[\u001b[0m\u001b[1;34m'name'\u001b[0m\u001b[1;33m]\u001b[0m\u001b[1;33m)\u001b[0m\u001b[1;33m\u001b[0m\u001b[1;33m\u001b[0m\u001b[0m\n\u001b[0;32m     14\u001b[0m \u001b[1;33m\u001b[0m\u001b[0m\n\u001b[1;32m---> 15\u001b[1;33m \u001b[0mspotify\u001b[0m\u001b[1;33m.\u001b[0m\u001b[0mtrack\u001b[0m\u001b[1;33m(\u001b[0m\u001b[0mcountry\u001b[0m\u001b[1;33m=\u001b[0m\u001b[1;34m'US'\u001b[0m\u001b[1;33m)\u001b[0m\u001b[1;33m\u001b[0m\u001b[1;33m\u001b[0m\u001b[0m\n\u001b[0m",
      "\u001b[1;31mTypeError\u001b[0m: track() got an unexpected keyword argument 'country'"
     ]
    }
   ],
   "source": [
    "results = spotify.search(q='artist: Nightwish', type='artist')\n",
    "items = nightwish_uri['artists']['items']\n",
    "id = items[0]['id']\n",
    "top_tracks_br = spotify.artist_top_tracks(id, country='BZ')\n",
    "top_tracks_ru = spotify.artist_top_tracks(id, country='US')\n",
    "\n",
    "for track in top_tracks_br['tracks']:\n",
    "    print(track['name'])\n",
    "\n",
    "print(\"\\n\")    \n",
    "\n",
    "for track in top_tracks_ru['tracks']:\n",
    "    print(track['name'])\n",
    "    \n",
    "spotify.track(country='US')"
   ]
  },
  {
   "cell_type": "code",
   "execution_count": null,
   "metadata": {},
   "outputs": [],
   "source": []
  }
 ],
 "metadata": {
  "kernelspec": {
   "display_name": "Python 3",
   "language": "python",
   "name": "python3"
  },
  "language_info": {
   "codemirror_mode": {
    "name": "ipython",
    "version": 3
   },
   "file_extension": ".py",
   "mimetype": "text/x-python",
   "name": "python",
   "nbconvert_exporter": "python",
   "pygments_lexer": "ipython3",
   "version": "3.7.3"
  }
 },
 "nbformat": 4,
 "nbformat_minor": 4
}
